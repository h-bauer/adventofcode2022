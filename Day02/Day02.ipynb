{
 "cells": [
  {
   "cell_type": "markdown",
   "id": "135e154b",
   "metadata": {},
   "source": [
    "# Part 1"
   ]
  },
  {
   "cell_type": "code",
   "execution_count": 1,
   "id": "0233d5ec",
   "metadata": {},
   "outputs": [],
   "source": [
    "sample = \"\"\"A Y\n",
    "B X\n",
    "C Z\"\"\"\n",
    "\n",
    "with open(\"input\") as f:\n",
    "    data = f.read().strip()"
   ]
  },
  {
   "cell_type": "code",
   "execution_count": 2,
   "id": "f6c78e34",
   "metadata": {},
   "outputs": [],
   "source": [
    "score = {\n",
    "    'X' : 1, # Rock\n",
    "    'Y' : 2, # Paper\n",
    "    'Z' : 3, # Scissors\n",
    "}\n",
    "\n",
    "\n",
    "win = {\n",
    "        'A' : {'X' : 3, 'Y' : 6, 'Z' : 0},\n",
    "        'B' : {'X' : 0, 'Y' : 3, 'Z' : 6},\n",
    "        'C' : {'X' : 6, 'Y' : 0, 'Z' : 3},\n",
    "}\n"
   ]
  },
  {
   "cell_type": "code",
   "execution_count": 3,
   "id": "7e7b289c",
   "metadata": {},
   "outputs": [],
   "source": [
    "def get_scores(rnd_list):\n",
    "    for rnd in rnd_list.split(\"\\n\"):\n",
    "        o, m = rnd.split()\n",
    "        yield score[m] + win[o][m]"
   ]
  },
  {
   "cell_type": "code",
   "execution_count": 4,
   "id": "8a316f48",
   "metadata": {},
   "outputs": [
    {
     "data": {
      "text/plain": [
       "15"
      ]
     },
     "execution_count": 4,
     "metadata": {},
     "output_type": "execute_result"
    }
   ],
   "source": [
    "sum(get_scores(sample))"
   ]
  },
  {
   "cell_type": "code",
   "execution_count": 5,
   "id": "54f703df",
   "metadata": {},
   "outputs": [
    {
     "data": {
      "text/plain": [
       "8890"
      ]
     },
     "execution_count": 5,
     "metadata": {},
     "output_type": "execute_result"
    }
   ],
   "source": [
    "sum(get_scores(data))"
   ]
  },
  {
   "cell_type": "markdown",
   "id": "94ddbbf1",
   "metadata": {},
   "source": [
    "# Part 2"
   ]
  },
  {
   "cell_type": "code",
   "execution_count": 6,
   "id": "38f5c2c8",
   "metadata": {},
   "outputs": [],
   "source": [
    "score = {\n",
    "    'A' : 1, # Rock\n",
    "    'B' : 2, # Paper\n",
    "    'C' : 3, # Scissors\n",
    "    'X' : 0, # Loss\n",
    "    'Y' : 3, # Drawn\n",
    "    'Z' : 6, # Win\n",
    "}\n",
    "\n",
    "strategy = {\n",
    "        'A' : {'X' : 'C', 'Y' : 'A', 'Z' : 'B'},\n",
    "        'B' : {'X' : 'A', 'Y' : 'B', 'Z' : 'C'},\n",
    "        'C' : {'X' : 'B', 'Y' : 'C', 'Z' : 'A'},\n",
    "}"
   ]
  },
  {
   "cell_type": "code",
   "execution_count": 7,
   "id": "67238cbd",
   "metadata": {},
   "outputs": [],
   "source": [
    "def get_scores(rnd_list):\n",
    "    for rnd in rnd_list.split(\"\\n\"):\n",
    "        o, m = rnd.split()\n",
    "        yield score[m] + score[strategy[o][m]]"
   ]
  },
  {
   "cell_type": "code",
   "execution_count": 8,
   "id": "d95b30a0",
   "metadata": {},
   "outputs": [
    {
     "data": {
      "text/plain": [
       "12"
      ]
     },
     "execution_count": 8,
     "metadata": {},
     "output_type": "execute_result"
    }
   ],
   "source": [
    "sum(get_scores(sample))"
   ]
  },
  {
   "cell_type": "code",
   "execution_count": 9,
   "id": "5e10384a",
   "metadata": {},
   "outputs": [
    {
     "data": {
      "text/plain": [
       "10238"
      ]
     },
     "execution_count": 9,
     "metadata": {},
     "output_type": "execute_result"
    }
   ],
   "source": [
    "sum(get_scores(data))"
   ]
  }
 ],
 "metadata": {
  "kernelspec": {
   "display_name": "Python 3 (ipykernel)",
   "language": "python",
   "name": "python3"
  },
  "language_info": {
   "codemirror_mode": {
    "name": "ipython",
    "version": 3
   },
   "file_extension": ".py",
   "mimetype": "text/x-python",
   "name": "python",
   "nbconvert_exporter": "python",
   "pygments_lexer": "ipython3",
   "version": "3.10.6"
  }
 },
 "nbformat": 4,
 "nbformat_minor": 5
}
