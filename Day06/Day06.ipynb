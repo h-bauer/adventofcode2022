{
 "cells": [
  {
   "cell_type": "code",
   "execution_count": 1,
   "id": "ac606f29",
   "metadata": {},
   "outputs": [],
   "source": [
    "samples = [\n",
    "    (\"mjqjpqmgbljsphdztnvjfqwrcgsmlb\", 7, 19),\n",
    "    (\"bvwbjplbgvbhsrlpgdmjqwftvncz\", 5, 23),\n",
    "    (\"nppdvjthqldpwncqszvftbrmjlhg\", 6, 23),\n",
    "    (\"nznrnfrfntjfmvfwmzdfjlvtqnbhcprsg\", 10, 29),\n",
    "    (\"zcfzfwzzqfrljwzlrfnpqdbhtmscgvjw\", 11, 26),\n",
    "]\n",
    "\n",
    "with open(\"input\") as f:\n",
    "    data = f.read()"
   ]
  },
  {
   "cell_type": "markdown",
   "id": "3b0d3085",
   "metadata": {},
   "source": [
    "# Part 1"
   ]
  },
  {
   "cell_type": "code",
   "execution_count": 2,
   "id": "ce1dec61",
   "metadata": {},
   "outputs": [],
   "source": [
    "def get_start_pos(data, length):\n",
    "    for i in range(length, len(data)):\n",
    "        if len(set(data[i-length:i])) == length:\n",
    "            return i"
   ]
  },
  {
   "cell_type": "code",
   "execution_count": 3,
   "id": "16983945",
   "metadata": {},
   "outputs": [
    {
     "data": {
      "text/plain": [
       "True"
      ]
     },
     "execution_count": 3,
     "metadata": {},
     "output_type": "execute_result"
    }
   ],
   "source": [
    "all(get_start_pos(sample, 4) == pos for sample, pos, _ in samples)"
   ]
  },
  {
   "cell_type": "code",
   "execution_count": 4,
   "id": "644dcb9f",
   "metadata": {},
   "outputs": [
    {
     "data": {
      "text/plain": [
       "1816"
      ]
     },
     "execution_count": 4,
     "metadata": {},
     "output_type": "execute_result"
    }
   ],
   "source": [
    "get_start_pos(data, 4)"
   ]
  },
  {
   "cell_type": "markdown",
   "id": "f63715bc",
   "metadata": {},
   "source": [
    "# Part 2"
   ]
  },
  {
   "cell_type": "code",
   "execution_count": 5,
   "id": "ffe0b683",
   "metadata": {},
   "outputs": [
    {
     "data": {
      "text/plain": [
       "True"
      ]
     },
     "execution_count": 5,
     "metadata": {},
     "output_type": "execute_result"
    }
   ],
   "source": [
    "all(get_start_pos(sample, 14) == pos for sample, _, pos in samples)"
   ]
  },
  {
   "cell_type": "code",
   "execution_count": 6,
   "id": "5dbc15d1",
   "metadata": {},
   "outputs": [
    {
     "data": {
      "text/plain": [
       "2625"
      ]
     },
     "execution_count": 6,
     "metadata": {},
     "output_type": "execute_result"
    }
   ],
   "source": [
    "get_start_pos(data, 14)"
   ]
  }
 ],
 "metadata": {
  "kernelspec": {
   "display_name": "Python 3 (ipykernel)",
   "language": "python",
   "name": "python3"
  },
  "language_info": {
   "codemirror_mode": {
    "name": "ipython",
    "version": 3
   },
   "file_extension": ".py",
   "mimetype": "text/x-python",
   "name": "python",
   "nbconvert_exporter": "python",
   "pygments_lexer": "ipython3",
   "version": "3.10.6"
  }
 },
 "nbformat": 4,
 "nbformat_minor": 5
}
