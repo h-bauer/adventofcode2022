{
 "cells": [
  {
   "cell_type": "code",
   "execution_count": 1,
   "id": "0c3bb84c",
   "metadata": {},
   "outputs": [],
   "source": [
    "sample = \"\"\"    [D]    \n",
    "[N] [C]    \n",
    "[Z] [M] [P]\n",
    " 1   2   3 \n",
    "\n",
    "move 1 from 2 to 1\n",
    "move 3 from 1 to 3\n",
    "move 2 from 2 to 1\n",
    "move 1 from 1 to 2\"\"\"\n",
    "\n",
    "with open(\"input\") as f:\n",
    "    data = f.read()"
   ]
  },
  {
   "cell_type": "markdown",
   "id": "5fe25c44",
   "metadata": {},
   "source": [
    "# Part 1"
   ]
  },
  {
   "cell_type": "code",
   "execution_count": 2,
   "id": "bf6ae88a",
   "metadata": {},
   "outputs": [],
   "source": [
    "def get_queues(data):\n",
    "    lines = [line[1::4] for line in data.splitlines() if '[' in line]\n",
    "    return list(map(str.strip, map(''.join, zip(*lines))))\n",
    "\n",
    "def get_moves(data):\n",
    "    return [[int(words) for words in line.split(' ')[1::2]]\n",
    "            for line in data.split(\"\\n\") if line.startswith('move')]\n",
    "\n",
    "def apply_moves(queues, moves):\n",
    "    for qnt, src, dest in moves:\n",
    "        src, dest = src - 1, dest - 1\n",
    "        queues[dest] = queues[src][:qnt][::-1] + queues[dest]\n",
    "        queues[src] = queues[src][qnt:]\n",
    "\n",
    "def get_code(data):\n",
    "    queues = get_queues(data)\n",
    "    moves = get_moves(data)\n",
    "    apply_moves(queues, moves)\n",
    "    return ''.join(queue[0] for queue in queues)"
   ]
  },
  {
   "cell_type": "code",
   "execution_count": 3,
   "id": "c31cb47c",
   "metadata": {},
   "outputs": [
    {
     "data": {
      "text/plain": [
       "'CMZ'"
      ]
     },
     "execution_count": 3,
     "metadata": {},
     "output_type": "execute_result"
    }
   ],
   "source": [
    "get_code(sample)"
   ]
  },
  {
   "cell_type": "code",
   "execution_count": 4,
   "id": "c3a591e2",
   "metadata": {},
   "outputs": [
    {
     "data": {
      "text/plain": [
       "'VQZNJMWTR'"
      ]
     },
     "execution_count": 4,
     "metadata": {},
     "output_type": "execute_result"
    }
   ],
   "source": [
    "get_code(data)"
   ]
  },
  {
   "cell_type": "markdown",
   "id": "ea9e40f2",
   "metadata": {},
   "source": [
    "# Part 2"
   ]
  },
  {
   "cell_type": "code",
   "execution_count": 5,
   "id": "4a68f8ab",
   "metadata": {},
   "outputs": [],
   "source": [
    "def apply_moves(queues, moves):\n",
    "    for qnt, src, dest in moves:\n",
    "        src, dest = src - 1, dest - 1\n",
    "        queues[dest] = queues[src][:qnt] + queues[dest]\n",
    "        queues[src] = queues[src][qnt:]"
   ]
  },
  {
   "cell_type": "code",
   "execution_count": 6,
   "id": "83b67703",
   "metadata": {},
   "outputs": [
    {
     "data": {
      "text/plain": [
       "'MCD'"
      ]
     },
     "execution_count": 6,
     "metadata": {},
     "output_type": "execute_result"
    }
   ],
   "source": [
    "get_code(sample)"
   ]
  },
  {
   "cell_type": "code",
   "execution_count": 7,
   "id": "416db7d8",
   "metadata": {},
   "outputs": [
    {
     "data": {
      "text/plain": [
       "'NLCDCLVMQ'"
      ]
     },
     "execution_count": 7,
     "metadata": {},
     "output_type": "execute_result"
    }
   ],
   "source": [
    "get_code(data)"
   ]
  }
 ],
 "metadata": {
  "kernelspec": {
   "display_name": "Python 3 (ipykernel)",
   "language": "python",
   "name": "python3"
  },
  "language_info": {
   "codemirror_mode": {
    "name": "ipython",
    "version": 3
   },
   "file_extension": ".py",
   "mimetype": "text/x-python",
   "name": "python",
   "nbconvert_exporter": "python",
   "pygments_lexer": "ipython3",
   "version": "3.10.6"
  }
 },
 "nbformat": 4,
 "nbformat_minor": 5
}
