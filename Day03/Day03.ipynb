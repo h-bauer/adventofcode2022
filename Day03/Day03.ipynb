{
 "cells": [
  {
   "cell_type": "code",
   "execution_count": 1,
   "id": "854c79f1",
   "metadata": {},
   "outputs": [],
   "source": [
    "sample = \"\"\"vJrwpWtwJgWrhcsFMMfFFhFp\n",
    "jqHRNqRjqzjGDLGLrsFMfFZSrLrFZsSL\n",
    "PmmdzqPrVvPwwTWBwg\n",
    "wMqvLMZHhHMvwLHjbvcjnnSBnvTQFn\n",
    "ttgJtRGJQctTZtZT\n",
    "CrZsJsPPZsGzwwsLwLmpwMDw\"\"\"\n",
    "\n",
    "with open(\"input\") as f:\n",
    "    data = f.read().strip()"
   ]
  },
  {
   "cell_type": "markdown",
   "id": "fa8073e4",
   "metadata": {},
   "source": [
    "# Part 1"
   ]
  },
  {
   "cell_type": "code",
   "execution_count": 2,
   "id": "ce112904",
   "metadata": {},
   "outputs": [],
   "source": [
    "def get_items(data):\n",
    "    for line in data.splitlines():\n",
    "        l = len(line) // 2\n",
    "        c1, c2 = set(line[:l]), (line[l:])\n",
    "        yield c1.intersection(c2).pop()\n",
    "\n",
    "def item_prio(letter):\n",
    "    if letter.islower():\n",
    "        return ord(letter) - ord('a') + 1\n",
    "    else:\n",
    "        return ord(letter) - ord('A') + 27\n",
    "\n",
    "def sum_prio(data):\n",
    "    return sum(map(item_prio, get_items(data)))"
   ]
  },
  {
   "cell_type": "code",
   "execution_count": 3,
   "id": "11ca22c2",
   "metadata": {},
   "outputs": [
    {
     "data": {
      "text/plain": [
       "157"
      ]
     },
     "execution_count": 3,
     "metadata": {},
     "output_type": "execute_result"
    }
   ],
   "source": [
    "sum_prio(sample)"
   ]
  },
  {
   "cell_type": "code",
   "execution_count": 4,
   "id": "ce4e52d5",
   "metadata": {},
   "outputs": [
    {
     "data": {
      "text/plain": [
       "8233"
      ]
     },
     "execution_count": 4,
     "metadata": {},
     "output_type": "execute_result"
    }
   ],
   "source": [
    "sum_prio(data)"
   ]
  },
  {
   "cell_type": "markdown",
   "id": "afef105d",
   "metadata": {},
   "source": [
    "# Part 2"
   ]
  },
  {
   "cell_type": "code",
   "execution_count": 5,
   "id": "9c1e9251",
   "metadata": {},
   "outputs": [],
   "source": [
    "def iter_by_n(iterator, n):\n",
    "    yield from zip(*(iter(iterator),) * n)\n",
    "\n",
    "def get_items(data):\n",
    "    for lines in iter_by_n(data.splitlines(), 3):\n",
    "        sets = map(set, lines)\n",
    "        yield set.intersection(*sets).pop()"
   ]
  },
  {
   "cell_type": "code",
   "execution_count": 6,
   "id": "5392c5be",
   "metadata": {},
   "outputs": [
    {
     "data": {
      "text/plain": [
       "70"
      ]
     },
     "execution_count": 6,
     "metadata": {},
     "output_type": "execute_result"
    }
   ],
   "source": [
    "sum_prio(sample)"
   ]
  },
  {
   "cell_type": "code",
   "execution_count": 7,
   "id": "aad1a5b5",
   "metadata": {},
   "outputs": [
    {
     "data": {
      "text/plain": [
       "2821"
      ]
     },
     "execution_count": 7,
     "metadata": {},
     "output_type": "execute_result"
    }
   ],
   "source": [
    "sum_prio(data)"
   ]
  }
 ],
 "metadata": {
  "kernelspec": {
   "display_name": "Python 3 (ipykernel)",
   "language": "python",
   "name": "python3"
  },
  "language_info": {
   "codemirror_mode": {
    "name": "ipython",
    "version": 3
   },
   "file_extension": ".py",
   "mimetype": "text/x-python",
   "name": "python",
   "nbconvert_exporter": "python",
   "pygments_lexer": "ipython3",
   "version": "3.10.6"
  }
 },
 "nbformat": 4,
 "nbformat_minor": 5
}
