{
 "cells": [
  {
   "cell_type": "code",
   "execution_count": 1,
   "id": "04e4c58d",
   "metadata": {},
   "outputs": [],
   "source": [
    "import numpy as np"
   ]
  },
  {
   "cell_type": "markdown",
   "id": "96196ad9",
   "metadata": {},
   "source": [
    "# Sample"
   ]
  },
  {
   "cell_type": "code",
   "execution_count": 2,
   "id": "5bc12635",
   "metadata": {},
   "outputs": [],
   "source": [
    "sample = \"\"\"1000\n",
    "2000\n",
    "3000\n",
    "\n",
    "4000\n",
    "\n",
    "5000\n",
    "6000\n",
    "\n",
    "7000\n",
    "8000\n",
    "9000\n",
    "\n",
    "10000\"\"\""
   ]
  },
  {
   "cell_type": "code",
   "execution_count": 3,
   "id": "8dc7b0cc",
   "metadata": {},
   "outputs": [
    {
     "name": "stdout",
     "output_type": "stream",
     "text": [
      "24000\n"
     ]
    },
    {
     "data": {
      "text/plain": [
       "45000"
      ]
     },
     "execution_count": 3,
     "metadata": {},
     "output_type": "execute_result"
    }
   ],
   "source": [
    "lines = (map(int, lines.split(\"\\n\"))\n",
    "             for lines in sample.strip().split(\"\\n\\n\"))\n",
    "l = np.asarray([sum(line) for line in lines], dtype=np.int32)\n",
    "print(l.max())\n",
    "l.sort()\n",
    "l[-3:].sum()"
   ]
  },
  {
   "cell_type": "markdown",
   "id": "49b33bb7",
   "metadata": {},
   "source": [
    "# Input"
   ]
  },
  {
   "cell_type": "code",
   "execution_count": 4,
   "id": "1d00db01",
   "metadata": {},
   "outputs": [
    {
     "name": "stdout",
     "output_type": "stream",
     "text": [
      "69281\n"
     ]
    },
    {
     "data": {
      "text/plain": [
       "201524"
      ]
     },
     "execution_count": 4,
     "metadata": {},
     "output_type": "execute_result"
    }
   ],
   "source": [
    "with open(\"input-01\") as f:\n",
    "    lines = (map(int, lines.split(\"\\n\"))\n",
    "             for lines in f.read().strip().split(\"\\n\\n\"))\n",
    "l = np.asarray([sum(line) for line in lines], dtype=np.int32)\n",
    "print(l.max())\n",
    "l.sort()\n",
    "l[-3:].sum()"
   ]
  },
  {
   "cell_type": "code",
   "execution_count": null,
   "id": "e784a82c",
   "metadata": {},
   "outputs": [],
   "source": []
  }
 ],
 "metadata": {
  "kernelspec": {
   "display_name": "Python 3 (ipykernel)",
   "language": "python",
   "name": "python3"
  },
  "language_info": {
   "codemirror_mode": {
    "name": "ipython",
    "version": 3
   },
   "file_extension": ".py",
   "mimetype": "text/x-python",
   "name": "python",
   "nbconvert_exporter": "python",
   "pygments_lexer": "ipython3",
   "version": "3.10.6"
  }
 },
 "nbformat": 4,
 "nbformat_minor": 5
}
