{
 "cells": [
  {
   "cell_type": "code",
   "execution_count": 1,
   "id": "04e4c58d",
   "metadata": {},
   "outputs": [],
   "source": [
    "import numpy as np"
   ]
  },
  {
   "cell_type": "code",
   "execution_count": 2,
   "id": "5bc12635",
   "metadata": {},
   "outputs": [],
   "source": [
    "sample = \"\"\"1000\n",
    "2000\n",
    "3000\n",
    "\n",
    "4000\n",
    "\n",
    "5000\n",
    "6000\n",
    "\n",
    "7000\n",
    "8000\n",
    "9000\n",
    "\n",
    "10000\"\"\""
   ]
  },
  {
   "cell_type": "code",
   "execution_count": 3,
   "id": "e83a81e0",
   "metadata": {},
   "outputs": [],
   "source": [
    "with open(\"input\") as f:\n",
    "    data = f.read().strip()"
   ]
  },
  {
   "cell_type": "code",
   "execution_count": 4,
   "id": "8dc7b0cc",
   "metadata": {},
   "outputs": [],
   "source": [
    "def to_ndarray(lines):\n",
    "    int_lists = (map(int, lines.split(\"\\n\"))\n",
    "                 for lines in lines.strip().split(\"\\n\\n\"))\n",
    "    return np.asarray([sum(line) for line in int_lists], dtype=np.int32)"
   ]
  },
  {
   "cell_type": "code",
   "execution_count": 5,
   "id": "c6e343b4",
   "metadata": {},
   "outputs": [
    {
     "data": {
      "text/plain": [
       "24000"
      ]
     },
     "execution_count": 5,
     "metadata": {},
     "output_type": "execute_result"
    }
   ],
   "source": [
    "nda = to_ndarray(sample)\n",
    "nda.max()"
   ]
  },
  {
   "cell_type": "code",
   "execution_count": 6,
   "id": "328284f8",
   "metadata": {},
   "outputs": [
    {
     "data": {
      "text/plain": [
       "45000"
      ]
     },
     "execution_count": 6,
     "metadata": {},
     "output_type": "execute_result"
    }
   ],
   "source": [
    "nda.sort()\n",
    "nda[-3:].sum()"
   ]
  },
  {
   "cell_type": "markdown",
   "id": "96196ad9",
   "metadata": {},
   "source": [
    "# Sample"
   ]
  },
  {
   "cell_type": "markdown",
   "id": "49b33bb7",
   "metadata": {},
   "source": [
    "# Input"
   ]
  },
  {
   "cell_type": "code",
   "execution_count": 7,
   "id": "1d00db01",
   "metadata": {},
   "outputs": [
    {
     "data": {
      "text/plain": [
       "69281"
      ]
     },
     "execution_count": 7,
     "metadata": {},
     "output_type": "execute_result"
    }
   ],
   "source": [
    "nda = to_ndarray(data)\n",
    "nda.max()"
   ]
  },
  {
   "cell_type": "code",
   "execution_count": 8,
   "id": "e784a82c",
   "metadata": {},
   "outputs": [
    {
     "data": {
      "text/plain": [
       "201524"
      ]
     },
     "execution_count": 8,
     "metadata": {},
     "output_type": "execute_result"
    }
   ],
   "source": [
    "nda.sort()\n",
    "nda[-3:].sum()"
   ]
  }
 ],
 "metadata": {
  "kernelspec": {
   "display_name": "Python 3 (ipykernel)",
   "language": "python",
   "name": "python3"
  },
  "language_info": {
   "codemirror_mode": {
    "name": "ipython",
    "version": 3
   },
   "file_extension": ".py",
   "mimetype": "text/x-python",
   "name": "python",
   "nbconvert_exporter": "python",
   "pygments_lexer": "ipython3",
   "version": "3.10.6"
  }
 },
 "nbformat": 4,
 "nbformat_minor": 5
}
