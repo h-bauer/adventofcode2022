{
 "cells": [
  {
   "cell_type": "code",
   "execution_count": 1,
   "id": "35006cec",
   "metadata": {},
   "outputs": [],
   "source": [
    "sample = \"\"\"2-4,6-8\n",
    "2-3,4-5\n",
    "5-7,7-9\n",
    "2-8,3-7\n",
    "6-6,4-6\n",
    "2-6,4-8\"\"\"\n",
    "\n",
    "with open(\"input\") as f:\n",
    "    data = f.read().strip()"
   ]
  },
  {
   "cell_type": "markdown",
   "id": "1c8db196",
   "metadata": {},
   "source": [
    "# Part 1"
   ]
  },
  {
   "cell_type": "code",
   "execution_count": 2,
   "id": "393dbac6",
   "metadata": {},
   "outputs": [],
   "source": [
    "def txt_to_range(txt):\n",
    "    start, stop = list(map(int, txt.split(\"-\")))\n",
    "    return set(range(start, stop + 1))\n",
    "\n",
    "def is_dup(line):\n",
    "    ranges = list(map(txt_to_range, line.split(',')))\n",
    "    intersec = set.intersection(*ranges)\n",
    "    return any(map(intersec.__eq__, ranges))\n",
    "\n",
    "def count_filtered(fn, data):\n",
    "    return len(list(filter(fn, data.splitlines())))"
   ]
  },
  {
   "cell_type": "code",
   "execution_count": 3,
   "id": "485f2a1f",
   "metadata": {},
   "outputs": [
    {
     "data": {
      "text/plain": [
       "2"
      ]
     },
     "execution_count": 3,
     "metadata": {},
     "output_type": "execute_result"
    }
   ],
   "source": [
    "count_filtered(is_dup, sample)"
   ]
  },
  {
   "cell_type": "code",
   "execution_count": 4,
   "id": "8950c84f",
   "metadata": {},
   "outputs": [
    {
     "data": {
      "text/plain": [
       "513"
      ]
     },
     "execution_count": 4,
     "metadata": {},
     "output_type": "execute_result"
    }
   ],
   "source": [
    "count_filtered(is_dup, data)"
   ]
  },
  {
   "cell_type": "markdown",
   "id": "888bd34a",
   "metadata": {},
   "source": [
    "# Part 2"
   ]
  },
  {
   "cell_type": "code",
   "execution_count": 5,
   "id": "8985bc7e",
   "metadata": {},
   "outputs": [],
   "source": [
    "def is_overlaping(line):\n",
    "    ranges = list(map(txt_to_range, line.split(\",\")))\n",
    "    intersec = set.intersection(*ranges)\n",
    "    return bool(intersec)"
   ]
  },
  {
   "cell_type": "code",
   "execution_count": 6,
   "id": "c22bacbf",
   "metadata": {},
   "outputs": [
    {
     "data": {
      "text/plain": [
       "4"
      ]
     },
     "execution_count": 6,
     "metadata": {},
     "output_type": "execute_result"
    }
   ],
   "source": [
    "count_filtered(is_overlaping, sample)"
   ]
  },
  {
   "cell_type": "code",
   "execution_count": 7,
   "id": "acf023b6",
   "metadata": {},
   "outputs": [
    {
     "data": {
      "text/plain": [
       "878"
      ]
     },
     "execution_count": 7,
     "metadata": {},
     "output_type": "execute_result"
    }
   ],
   "source": [
    "count_filtered(is_overlaping, data)"
   ]
  }
 ],
 "metadata": {
  "kernelspec": {
   "display_name": "Python 3 (ipykernel)",
   "language": "python",
   "name": "python3"
  },
  "language_info": {
   "codemirror_mode": {
    "name": "ipython",
    "version": 3
   },
   "file_extension": ".py",
   "mimetype": "text/x-python",
   "name": "python",
   "nbconvert_exporter": "python",
   "pygments_lexer": "ipython3",
   "version": "3.10.6"
  }
 },
 "nbformat": 4,
 "nbformat_minor": 5
}
